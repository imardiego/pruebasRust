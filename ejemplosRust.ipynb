{
 "cells": [
  {
   "cell_type": "markdown",
   "id": "efc56797",
   "metadata": {},
   "source": [
    "# Rust\n",
    "Las ventajas de Rust frente a Python incluyen su mayor rendimiento y seguridad de memoria \n",
    "gracias a su sistema de gestión de propiedad y ausencia de recolector de basura, lo que lo \n",
    "hace ideal para aplicaciones de bajo nivel y de alta velocidad. \n",
    "\n",
    "Además, Rust ofrece soporte nativo para la concurrencia sin las limitaciones de los lenguajes \n",
    "interpretados, evitando las carreras de datos y permitiendo un paralelismo robusto. "
   ]
  },
  {
   "cell_type": "markdown",
   "id": "b227793b",
   "metadata": {},
   "source": [
    "# Rust : creaar entorno de desarrollo. \n",
    "\n",
    "Consultar el fichero que indica los pasos: https://mega.nz/file/9qtiwb7L#_JpzIJlvBkoJch6EoSELK4cx5zAP2Gqk_yY1PpRZu7Q"
   ]
  },
  {
   "cell_type": "markdown",
   "id": "3acf8d50",
   "metadata": {},
   "source": [
    "# Instalación Rust en Jupyter Notebook linux\n",
    "Instalar Rust en WSL2 con Ubuntu, y luego usarlo en Jupyter Notebook dentro de VS Code, implica varios pasos.\n",
    "\n",
    "**Paso 1: Instalar Rust en WSL2 (Ubuntu):**  \n",
    "\n",
    "Desde el terminal y dentro del entorno de trabajo de Rus, ejecuto: \n",
    "\n",
    "    - $curl --proto '=https' --tlsv1.2 -sSf https://sh.rustup.rs | sh\n",
    "  \n",
    "    - $source ~/.cargo/env   <-- consultar esto, ya tengo entorno de desarrollo miniconda\n",
    "  \n",
    "    - $rustc --version\n",
    "\n",
    "    - $cargo --version\n",
    "\n",
    "**Paso 2: Instalar el kernel de Jupyter para Rust**\n",
    "\n",
    "    - $sudo apt install libzmq3-dev\n",
    "\n",
    "    - $cargo install evcxr_jupyter\n",
    "\n",
    "Este último paso puede tardar un poco ya que compila el kernel desde la fuente.\n",
    "\n",
    "    - $~/.cargo/bin/evcxr_jupyter --install\n",
    "  \n",
    "Verificamos que se haya instalado consultando los kernels\n",
    "\n",
    "    - jupyter kernelspec list\n",
    "\n",
    "<img src=\"./images/rustkernel.PNG\" />"
   ]
  },
  {
   "cell_type": "markdown",
   "id": "430df7d5",
   "metadata": {},
   "source": [
    "# Extensiónes recomendadas\n",
    "\n",
    "    - Jupyter\n",
    "  \n",
    "    - Rust Analyzer <-- falta esta\n",
    "  \n",
    "    - Remote -WsL "
   ]
  },
  {
   "cell_type": "markdown",
   "id": "17691e32",
   "metadata": {},
   "source": [
    "# Seleccionamos el kernel de Rust\n",
    "\n",
    "Seleccionar kernel --> kernel de jupyter ---> rust"
   ]
  },
  {
   "cell_type": "code",
   "execution_count": null,
   "id": "150a0b6e",
   "metadata": {},
   "outputs": [
    {
     "name": "stdout",
     "output_type": "stream",
     "text": [
      "¡Hola desde Rust en Jupyter!\n"
     ]
    }
   ],
   "source": [
    "println!(\"¡Hola desde Rust en Jupyter!\");"
   ]
  },
  {
   "cell_type": "markdown",
   "id": "8283b108",
   "metadata": {},
   "source": [
    "# Ejemplo de programa cuántico en Rust puro: \n",
    "\n",
    "Un estado de bell"
   ]
  },
  {
   "cell_type": "code",
   "execution_count": null,
   "id": "aecdcc62",
   "metadata": {},
   "outputs": [
    {
     "name": "stdout",
     "output_type": "stream",
     "text": [
      "Estado de Bell |Φ⁺⟩:\n",
      "|00⟩: 0.7071 + 0.0000i\n",
      "|01⟩: 0.0000 + 0.0000i\n",
      "|10⟩: 0.0000 + 0.0000i\n",
      "|11⟩: 0.7071 + 0.0000i\n",
      "\n",
      "Probabilidades:\n"
     ]
    },
    {
     "data": {
      "text/plain": [
       "()"
      ]
     },
     "execution_count": 9,
     "metadata": {},
     "output_type": "execute_result"
    }
   ],
   "source": [
    "\n",
    "// :dep permite añadir dependencias en tiempo de ejecución\n",
    ":dep ndarray = \"0.15\"\n",
    ":dep num-complex = \"0.4\"\n",
    "\n",
    "use ndarray::{Array1, Array2};\n",
    "use num_complex::Complex;\n",
    "\n",
    "const SQRT2_INV: f64 = 0.70710678118;\n",
    "\n",
    "let mut state: Array1<Complex<f64>> = Array1::from_vec(vec![\n",
    "    Complex::new(1.0, 0.0),\n",
    "    Complex::new(0.0, 0.0),\n",
    "    Complex::new(0.0, 0.0),\n",
    "    Complex::new(0.0, 0.0),\n",
    "]);\n",
    "\n",
    "let h_i: Array2<Complex<f64>> = Array2::from_shape_vec((4, 4), vec![\n",
    "    Complex::new(SQRT2_INV, 0.0), Complex::new(0.0, 0.0), Complex::new(SQRT2_INV, 0.0), Complex::new(0.0, 0.0),\n",
    "    Complex::new(0.0, 0.0), Complex::new(SQRT2_INV, 0.0), Complex::new(0.0, 0.0), Complex::new(SQRT2_INV, 0.0),\n",
    "    Complex::new(SQRT2_INV, 0.0), Complex::new(0.0, 0.0), Complex::new(-SQRT2_INV, 0.0), Complex::new(0.0, 0.0),\n",
    "    Complex::new(0.0, 0.0), Complex::new(SQRT2_INV, 0.0), Complex::new(0.0, 0.0), Complex::new(-SQRT2_INV, 0.0),\n",
    "]).unwrap();\n",
    "\n",
    "state = h_i.dot(&state);\n",
    "\n",
    "let cnot: Array2<Complex<f64>> = Array2::from_shape_vec((4, 4), vec![\n",
    "    Complex::new(1.0, 0.0), Complex::new(0.0, 0.0), Complex::new(0.0, 0.0), Complex::new(0.0, 0.0),\n",
    "    Complex::new(0.0, 0.0), Complex::new(1.0, 0.0), Complex::new(0.0, 0.0), Complex::new(0.0, 0.0),\n",
    "    Complex::new(0.0, 0.0), Complex::new(0.0, 0.0), Complex::new(0.0, 0.0), Complex::new(1.0, 0.0),\n",
    "    Complex::new(0.0, 0.0), Complex::new(0.0, 0.0), Complex::new(1.0, 0.0), Complex::new(0.0, 0.0),\n",
    "]).unwrap();\n",
    "\n",
    "state = cnot.dot(&state);\n",
    "\n",
    "println!(\"Estado de Bell |Φ⁺⟩:\");\n",
    "for (i, amp) in state.iter().enumerate() {\n",
    "    let basis = format!(\"{:02b}\", i);\n",
    "    println!(\"|{}⟩: {:.4} + {:.4}i\", basis, amp.re, amp.im);\n",
    "}\n",
    "\n",
    "println!(\"\\nProbabilidades:\");\n",
    "for (i, amp) in state.iter().enumerate() {\n",
    "    let prob = (amp.re * amp.re + amp.im * amp.im).round();\n",
    "    if prob > 0.0 {\n",
    "        let basis = format!(\"{:02b}\", i);\n",
    "        println!(\"P(|{}⟩) = {:.0}%\", basis, prob * 100.0);\n",
    "    }\n",
    "}"
   ]
  },
  {
   "cell_type": "markdown",
   "id": "e01d3aad",
   "metadata": {},
   "source": [
    "# Estado de bell en línea de comandos creando proyecto con cargo\n",
    "\n",
    "Crear un programa Rust que:\n",
    "\n",
    "Represente 2 qubits.\n",
    "\n",
    "Aplique una puerta Hadamard y una CNOT.\n",
    "\n",
    "Genere el estado de Bell ∣Φ + ⟩= 1/sqrt(2)(∣00⟩+∣11⟩) .\n",
    "\n",
    "Imprima amplitudes y probabilidades."
   ]
  },
  {
   "cell_type": "markdown",
   "id": "265ae4f0",
   "metadata": {},
   "source": [
    "#### Paso 1: Crear el proyecto con cargo\n",
    "\n",
    "Abre tu terminal en WSL2 (Ubuntu) y ejecuta:\n",
    "\n",
    "    - $cargo new bell_state_simulator\n",
    "\n",
    "    - $cd bell_state_simulator"
   ]
  },
  {
   "cell_type": "markdown",
   "id": "522bc3b9",
   "metadata": {},
   "source": [
    "#### Paso 2: Agregar dependencias\n",
    "\n",
    "Edita el archivo Cargo.toml y añade las bibliotecas necesarias para cálculos numéricos y números complejos:\n",
    "\n",
    "[package]\n",
    "\n",
    "name = \"bell_state_simulator\"\n",
    "\n",
    "version = \"0.1.0\"\n",
    "\n",
    "edition = \"2024\"\n",
    "\n",
    "[dependencies]\n",
    "\n",
    "ndarray = \"0.15\"\n",
    "\n",
    "num-complex = \"0.4\""
   ]
  },
  {
   "cell_type": "markdown",
   "id": "b2bed14e",
   "metadata": {},
   "source": [
    "#### Paso 3: Escribir el código en src/main.rs\n",
    "\n",
    "Reemplaza todo el contenido de src/main.rs con el siguiente código:"
   ]
  },
  {
   "cell_type": "code",
   "execution_count": null,
   "id": "617dca81",
   "metadata": {},
   "outputs": [],
   "source": [
    "use ndarray::{Array1, Array2};\n",
    "use num_complex::Complex;\n",
    "\n",
    "const INV_SQRT_2: f64 = 0.7071067811865476; // 1 / √2\n",
    "\n",
    "fn main() {\n",
    "    // Estado inicial |00⟩ → [1, 0, 0, 0]\n",
    "    let mut state: Array1<Complex<f64>> = Array1::from_vec(vec![\n",
    "        Complex::new(1.0, 0.0),\n",
    "        Complex::new(0.0, 0.0),\n",
    "        Complex::new(0.0, 0.0),\n",
    "        Complex::new(0.0, 0.0),\n",
    "    ]);\n",
    "\n",
    "    // Puerta Hadamard en el primer qubit: H ⊗ I\n",
    "    let h_i: Array2<Complex<f64>> = Array2::from_shape_vec(\n",
    "        (4, 4),\n",
    "        vec![\n",
    "            Complex::new(INV_SQRT_2, 0.0), Complex::new(0.0, 0.0), Complex::new(INV_SQRT_2, 0.0), Complex::new(0.0, 0.0),\n",
    "            Complex::new(0.0, 0.0), Complex::new(INV_SQRT_2, 0.0), Complex::new(0.0, 0.0), Complex::new(INV_SQRT_2, 0.0),\n",
    "            Complex::new(INV_SQRT_2, 0.0), Complex::new(0.0, 0.0), Complex::new(-INV_SQRT_2, 0.0), Complex::new(0.0, 0.0),\n",
    "            Complex::new(0.0, 0.0), Complex::new(INV_SQRT_2, 0.0), Complex::new(0.0, 0.0), Complex::new(-INV_SQRT_2, 0.0),\n",
    "        ],\n",
    "    ).expect(\"Error al crear H ⊗ I\");\n",
    "\n",
    "    state = h_i.dot(&state);\n",
    "\n",
    "    // Puerta CNOT (control = qubit 0, target = qubit 1)\n",
    "    let cnot: Array2<Complex<f64>> = Array2::from_shape_vec(\n",
    "        (4, 4),\n",
    "        vec![\n",
    "            Complex::new(1.0, 0.0), Complex::new(0.0, 0.0), Complex::new(0.0, 0.0), Complex::new(0.0, 0.0),\n",
    "            Complex::new(0.0, 0.0), Complex::new(1.0, 0.0), Complex::new(0.0, 0.0), Complex::new(0.0, 0.0),\n",
    "            Complex::new(0.0, 0.0), Complex::new(0.0, 0.0), Complex::new(0.0, 0.0), Complex::new(1.0, 0.0),\n",
    "            Complex::new(0.0, 0.0), Complex::new(0.0, 0.0), Complex::new(1.0, 0.0), Complex::new(0.0, 0.0),\n",
    "        ],\n",
    "    ).expect(\"Error al crear CNOT\");\n",
    "\n",
    "    state = cnot.dot(&state);\n",
    "\n",
    "    // Mostrar el estado cuántico resultante\n",
    "    println!(\"✅ Estado de Bell |Φ⁺⟩ = 1/√2 (|00⟩ + |11⟩)\");\n",
    "    println!(\"\\nAmplitudes:\");\n",
    "    for (i, amplitude) in state.iter().enumerate() {\n",
    "        let basis = format!(\"{:02b}\", i);\n",
    "        println!(\"|{}⟩: {:.6} + {:.6}i\", basis, amplitude.re, amplitude.im);\n",
    "    }\n",
    "\n",
    "    println!(\"\\nProbabilidades:\");\n",
    "    for (i, amplitude) in state.iter().enumerate() {\n",
    "        let prob = amplitude.norm_sqr(); // |a|² + |b|²\n",
    "        if prob > 1e-10 {\n",
    "            let basis = format!(\"{:02b}\", i);\n",
    "            println!(\"P(|{}⟩) = {:.2}%\", basis, prob * 100.0);\n",
    "        }\n",
    "    }\n",
    "}"
   ]
  },
  {
   "cell_type": "markdown",
   "id": "e6d10367",
   "metadata": {},
   "source": [
    "#### Paso 4: Compilar y ejecutar\n",
    "\n",
    "En la terminal, dentro de la carpeta del proyecto (bell_state_simulator), ejecuta:\n",
    "\n",
    "    - cargo run\n",
    "  \n",
    "\n",
    "El resultado en la línea de comandos es: \n",
    "\n",
    "<img src=\"./images/ejecucionBellRustLineaComandos.PNG\" />"
   ]
  },
  {
   "cell_type": "markdown",
   "id": "2f4d5b48",
   "metadata": {},
   "source": [
    "**Este ejercicio se ha ejecutado con un simulador básico de dos qubits**"
   ]
  },
  {
   "cell_type": "markdown",
   "id": "1f2bddb7",
   "metadata": {
    "vscode": {
     "languageId": "rust"
    }
   },
   "source": [
    "# Creación del proyecto con cargo y ejecución en jupyter"
   ]
  },
  {
   "cell_type": "markdown",
   "id": "32942b6e",
   "metadata": {},
   "source": [
    "#### Paso 1: Instalar dependencias del sistema (en WSL2 Ubuntu)\n",
    "\n",
    "qsim requiere un compilador C++ y cmake porque incluye código nativo:\n",
    "\n",
    "    - sudo apt update\n",
    "\n",
    "    - sudo apt install build-essential cmake"
   ]
  },
  {
   "cell_type": "markdown",
   "id": "f5c5d6ac",
   "metadata": {},
   "source": [
    "#### Paso 2: Crear el proyecto con cargo\n",
    "\n",
    "    - $cargo new bell_cli\n",
    "  \n",
    "    - $cd bell_cli"
   ]
  },
  {
   "cell_type": "markdown",
   "id": "35283e55",
   "metadata": {},
   "source": [
    "#### Paso 3: Agregar qsim como dependencia\n",
    "\n",
    "// Usaremos la rama máster del repo de git\n",
    "\n",
    "Edita Cargo.toml:\n",
    "\n",
    "[package]\n",
    "\n",
    "name = \"bell_cli\"\n",
    "\n",
    "version = \"0.1.0\"\n",
    "\n",
    "edition = \"2021\"\n",
    "\n",
    "[dependencies]\n",
    "\n",
    "serde = { version = \"1.0\", features = [\"derive\"] }\n",
    "\n",
    "serde_json = \"1.0\"\n",
    "\n",
    "num-complex = \"0.4\""
   ]
  },
  {
   "cell_type": "markdown",
   "id": "963bbaeb",
   "metadata": {},
   "source": [
    "#### Paso 4: Escribir el código en src/main.rs\n"
   ]
  },
  {
   "cell_type": "code",
   "execution_count": null,
   "id": "ad6db0a1",
   "metadata": {},
   "outputs": [],
   "source": [
    "use num_complex::Complex;\n",
    "use serde::Serialize;\n",
    "use std::f64::consts::FRAC_1_SQRT_2;\n",
    "use std::fs::File;\n",
    "use std::io::Write;\n",
    "\n",
    "#[derive(Serialize)]\n",
    "struct Resultado {\n",
    "    amplitudes: Vec<(String, f64, f64)>, // (basis, re, im)\n",
    "    probabilidades: Vec<(String, f64)>,  // (basis, prob)\n",
    "}\n",
    "\n",
    "fn main() {\n",
    "    // Estado inicial |00⟩\n",
    "    let mut state = [\n",
    "        Complex::new(1.0, 0.0),\n",
    "        Complex::new(0.0, 0.0),\n",
    "        Complex::new(0.0, 0.0),\n",
    "        Complex::new(0.0, 0.0),\n",
    "    ];\n",
    "\n",
    "    // H ⊗ I\n",
    "    let h_i = [\n",
    "        [FRAC_1_SQRT_2, 0.0, FRAC_1_SQRT_2, 0.0],\n",
    "        [0.0, FRAC_1_SQRT_2, 0.0, FRAC_1_SQRT_2],\n",
    "        [FRAC_1_SQRT_2, 0.0, -FRAC_1_SQRT_2, 0.0],\n",
    "        [0.0, FRAC_1_SQRT_2, 0.0, -FRAC_1_SQRT_2],\n",
    "    ];\n",
    "\n",
    "    let mut new_state = [Complex::new(0.0, 0.0); 4];\n",
    "    for i in 0..4 {\n",
    "        for j in 0..4 {\n",
    "            new_state[i] += Complex::new(h_i[i][j], 0.0) * state[j];\n",
    "        }\n",
    "    }\n",
    "    state = new_state;\n",
    "\n",
    "    // CNOT\n",
    "    let cnot = [\n",
    "        [1.0, 0.0, 0.0, 0.0],\n",
    "        [0.0, 1.0, 0.0, 0.0],\n",
    "        [0.0, 0.0, 0.0, 1.0],\n",
    "        [0.0, 0.0, 1.0, 0.0],\n",
    "    ];\n",
    "\n",
    "    let mut new_state = [Complex::new(0.0, 0.0); 4];\n",
    "    for i in 0..4 {\n",
    "        for j in 0..4 {\n",
    "            new_state[i] += Complex::new(cnot[i][j], 0.0) * state[j];\n",
    "        }\n",
    "    }\n",
    "    state = new_state;\n",
    "\n",
    "    // Preparar resultados\n",
    "    let mut amplitudes = Vec::new();\n",
    "    let mut probabilidades = Vec::new();\n",
    "\n",
    "    for (i, amp) in state.iter().enumerate() {\n",
    "        let basis = format!(\"{:02b}\", i);\n",
    "        amplitudes.push((basis.clone(), amp.re, amp.im));\n",
    "        let prob = amp.norm_sqr();\n",
    "        if prob > 1e-10 {\n",
    "            probabilidades.push((basis, prob));\n",
    "        }\n",
    "    }\n",
    "\n",
    "    let resultado = Resultado {\n",
    "        amplitudes,\n",
    "        probabilidades,\n",
    "    };\n",
    "\n",
    "    // Guardar en JSON\n",
    "    let json = serde_json::to_string_pretty(&resultado).unwrap();\n",
    "    let mut file = File::create(\"bell_result.json\").unwrap();\n",
    "    file.write_all(json.as_bytes()).unwrap();\n",
    "\n",
    "    println!(\"✅ Resultados guardados en bell_result.json\");\n",
    "}"
   ]
  },
  {
   "cell_type": "markdown",
   "id": "bef3c9b1",
   "metadata": {},
   "source": [
    "#### Paso 5: Compilar y ejecutar y crear un json.\n",
    "\n",
    "Desde dentro del directorio del proyecto\n",
    "\n",
    "    - $cargo run --release\n"
   ]
  },
  {
   "cell_type": "markdown",
   "id": "7d49b0c2",
   "metadata": {},
   "source": [
    "#### Paso5: Ejecuto con kernell python\n",
    "\n",
    "Elijo el CondaCodingRustEnvironment"
   ]
  },
  {
   "cell_type": "code",
   "execution_count": null,
   "id": "621287a5",
   "metadata": {},
   "outputs": [],
   "source": [
    "%pip install matplotlib"
   ]
  },
  {
   "cell_type": "code",
   "execution_count": 14,
   "id": "d2772d78",
   "metadata": {},
   "outputs": [
    {
     "name": "stdout",
     "output_type": "stream",
     "text": [
      "Compilando y ejecutando simulación en Rust...\n",
      "✅ Simulación completada. Leyendo resultados...\n",
      "\n",
      "Amplitudes:\n",
      "|00⟩: 0.707107 + 0.000000i\n",
      "|01⟩: 0.000000 + 0.000000i\n",
      "|10⟩: 0.000000 + 0.000000i\n",
      "|11⟩: 0.707107 + 0.000000i\n",
      "\n",
      "Probabilidades:\n",
      "P(|00⟩) = 50.0%\n",
      "P(|11⟩) = 50.0%\n"
     ]
    }
   ],
   "source": [
    "import subprocess\n",
    "import os\n",
    "import json\n",
    "import matplotlib.pyplot as plt\n",
    "\n",
    "# Ruta absoluta a cargo (ajusta \"miguel\" por tu usuario)\n",
    "CARGO_PATH = \"/home/miguel/.cargo/bin/cargo\"\n",
    "RUST_PROJECT_DIR = \"./bell_cli\"\n",
    "\n",
    "print(\"Compilando y ejecutando simulación en Rust...\")\n",
    "result = subprocess.run(\n",
    "    [CARGO_PATH, \"run\", \"--release\"],\n",
    "    cwd=RUST_PROJECT_DIR,\n",
    "    capture_output=True,\n",
    "    text=True\n",
    ")\n",
    "\n",
    "if result.returncode != 0:\n",
    "    print(\"❌ Error al ejecutar Rust:\")\n",
    "    print(result.stderr)\n",
    "    raise RuntimeError(\"Falló la simulación en Rust\")\n",
    "\n",
    "print(\"✅ Simulación completada. Leyendo resultados...\")\n",
    "\n",
    "# El JSON se guarda DENTRO de bell_cli/\n",
    "json_path = os.path.join(RUST_PROJECT_DIR, \"bell_result.json\")\n",
    "\n",
    "if not os.path.exists(json_path):\n",
    "    raise FileNotFoundError(f\"No se encontró {json_path}. ¿Se ejecutó correctamente el programa Rust?\")\n",
    "\n",
    "# Cargar y mostrar\n",
    "with open(json_path, \"r\") as f:\n",
    "    data = json.load(f)\n",
    "\n",
    "# Mostrar resultados\n",
    "print(\"\\nAmplitudes:\")\n",
    "for basis, re, im in data[\"amplitudes\"]:\n",
    "    print(f\"|{basis}⟩: {re:.6f} + {im:.6f}i\")\n",
    "\n",
    "print(\"\\nProbabilidades:\")\n",
    "labels = []\n",
    "probs = []\n",
    "for basis, prob in data[\"probabilidades\"]:\n",
    "    print(f\"P(|{basis}⟩) = {prob*100:.1f}%\")\n",
    "    labels.append(basis)\n",
    "    probs.append(prob)"
   ]
  }
 ],
 "metadata": {
  "kernelspec": {
   "display_name": "CondaCodingRustEnvironment",
   "language": "python",
   "name": "python3"
  },
  "language_info": {
   "codemirror_mode": {
    "name": "ipython",
    "version": 3
   },
   "file_extension": ".py",
   "mimetype": "text/x-python",
   "name": "python",
   "nbconvert_exporter": "python",
   "pygments_lexer": "ipython3",
   "version": "3.13.7"
  }
 },
 "nbformat": 4,
 "nbformat_minor": 5
}
