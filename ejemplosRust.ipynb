{
 "cells": [
  {
   "cell_type": "markdown",
   "id": "efc56797",
   "metadata": {},
   "source": [
    "# Rust\n",
    "Las ventajas de Rust frente a Python incluyen su mayor rendimiento y seguridad de memoria \n",
    "gracias a su sistema de gestión de propiedad y ausencia de recolector de basura, lo que lo \n",
    "hace ideal para aplicaciones de bajo nivel y de alta velocidad. \n",
    "\n",
    "Además, Rust ofrece soporte nativo para la concurrencia sin las limitaciones de los lenguajes \n",
    "interpretados, evitando las carreras de datos y permitiendo un paralelismo robusto. "
   ]
  },
  {
   "cell_type": "markdown",
   "id": "b227793b",
   "metadata": {},
   "source": [
    "# Rust : creaar entorno de desarrollo. \n",
    "\n",
    "Consultar el fichero que indica los pasos: https://mega.nz/file/9qtiwb7L#_JpzIJlvBkoJch6EoSELK4cx5zAP2Gqk_yY1PpRZu7Q"
   ]
  },
  {
   "cell_type": "markdown",
   "id": "3acf8d50",
   "metadata": {},
   "source": [
    "# Instalación Rust en Jupyter Notebook linux\n",
    "Instalar Rust en WSL2 con Ubuntu, y luego usarlo en Jupyter Notebook dentro de VS Code, implica varios pasos.\n",
    "\n",
    "**Paso 1: Instalar Rust en WSL2 (Ubuntu):**  \n",
    "\n",
    "Desde el terminal y dentro del entorno de trabajo de Rus, ejecuto: \n",
    "\n",
    "    - $curl --proto '=https' --tlsv1.2 -sSf https://sh.rustup.rs | sh\n",
    "  \n",
    "    - $source ~/.cargo/env   <-- consultar esto, ya tengo entorno de desarrollo miniconda\n",
    "  \n",
    "    - $rustc --version\n",
    "\n",
    "    - $cargo --version\n",
    "\n",
    "**Paso 2: Instalar el kernel de Jupyter para Rust**\n",
    "\n",
    "    - $sudo apt install libzmq3-dev\n",
    "\n",
    "    - $cargo install evcxr_jupyter\n",
    "\n",
    "Este último paso puede tardar un poco ya que compila el kernel desde la fuente.\n",
    "\n",
    "    - $~/.cargo/bin/evcxr_jupyter --install\n",
    "  \n",
    "Verificamos que se haya instalado consultando los kernels\n",
    "\n",
    "    - jupyter kernelspec list\n",
    "\n",
    "<img src=\"./images/rustkernel.PNG\" />"
   ]
  },
  {
   "cell_type": "markdown",
   "id": "17691e32",
   "metadata": {},
   "source": [
    "# Seleccionamos el kernel de Rust\n",
    "\n"
   ]
  },
  {
   "cell_type": "code",
   "execution_count": 2,
   "id": "150a0b6e",
   "metadata": {},
   "outputs": [
    {
     "ename": "NameError",
     "evalue": "name 'println' is not defined",
     "output_type": "error",
     "traceback": [
      "\u001b[31m---------------------------------------------------------------------------\u001b[39m",
      "\u001b[31mNameError\u001b[39m                                 Traceback (most recent call last)",
      "\u001b[36mCell\u001b[39m\u001b[36m \u001b[39m\u001b[32mIn[2]\u001b[39m\u001b[32m, line 1\u001b[39m\n\u001b[32m----> \u001b[39m\u001b[32m1\u001b[39m \u001b[43mprintln\u001b[49m (\u001b[33m\"\u001b[39m\u001b[33m¡Hola desde Rust en Jupyter!\u001b[39m\u001b[33m\"\u001b[39m);\n",
      "\u001b[31mNameError\u001b[39m: name 'println' is not defined"
     ]
    }
   ],
   "source": [
    "println (\"¡Hola desde Rust en Jupyter!\");"
   ]
  }
 ],
 "metadata": {
  "kernelspec": {
   "display_name": "CondaCodingRustEnvironment",
   "language": "python",
   "name": "python3"
  },
  "language_info": {
   "codemirror_mode": {
    "name": "ipython",
    "version": 3
   },
   "file_extension": ".py",
   "mimetype": "text/x-python",
   "name": "python",
   "nbconvert_exporter": "python",
   "pygments_lexer": "ipython3",
   "version": "3.13.7"
  }
 },
 "nbformat": 4,
 "nbformat_minor": 5
}
