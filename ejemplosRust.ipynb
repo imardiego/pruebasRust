{
 "cells": [
  {
   "cell_type": "markdown",
   "id": "b227793b",
   "metadata": {},
   "source": [
    "# Rust"
   ]
  }
 ],
 "metadata": {
  "language_info": {
   "name": "python"
  }
 },
 "nbformat": 4,
 "nbformat_minor": 5
}
